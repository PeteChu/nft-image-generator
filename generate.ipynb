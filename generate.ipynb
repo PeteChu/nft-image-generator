{
 "cells": [
  {
   "cell_type": "code",
   "execution_count": 1,
   "metadata": {},
   "outputs": [],
   "source": [
    "from PIL import Image \n",
    "from IPython.display import display \n",
    "import random\n",
    "import json\n",
    "from functools import reduce\n",
    "import os\n",
    "import glob"
   ]
  },
  {
   "cell_type": "code",
   "execution_count": 2,
   "metadata": {},
   "outputs": [],
   "source": [
    "# Load config file\n",
    "layer_config = {}\n",
    "try:\n",
    "    with open('layer_config.json', 'r') as json_file:\n",
    "        layer_config = json.load(json_file)\n",
    "except FileNotFoundError:\n",
    "    raise Exception('layer_config.json is not found.')"
   ]
  },
  {
   "cell_type": "code",
   "execution_count": 3,
   "metadata": {},
   "outputs": [
    {
     "name": "stdout",
     "output_type": "stream",
     "text": [
      "{'layers': {'Hand': {'traits': ['Hand_13.png', 'Hand_07.png', 'Hand_06.png', 'Hand_12.png', 'Hand_04.png', 'Hand_10.png', 'Hand_11.png', 'Hand_05.png', 'Hand_01.png', 'Hand_15.png', 'Hand_14.png', 'Hand_16.png', 'Hand_02.png', 'Hand_03.png', 'Hand_17.png', 'Hand_19.png', 'Hand_18.png', 'Hand_20.png', 'Hand_08.png', 'Hand_09.png', 'Hand_21.png'], 'weights': [4.761904761904762, 4.761904761904762, 4.761904761904762, 4.761904761904762, 4.761904761904762, 4.761904761904762, 4.761904761904762, 4.761904761904762, 4.761904761904762, 4.761904761904762, 4.761904761904762, 4.761904761904762, 4.761904761904762, 4.761904761904762, 4.761904761904762, 4.761904761904762, 4.761904761904762, 4.761904761904762, 4.761904761904762, 4.761904761904762, 4.761904761904788]}, 'Eye': {'traits': ['Eye_01.png', 'Eye_02.png', 'Eye_03.png', 'Eye_07.png', 'Eye_06.png', 'Eye_04.png', 'Eye_05.png', 'Eye_08.png', 'Eye_09.png'], 'weights': [11.11111111111111, 11.11111111111111, 11.11111111111111, 11.11111111111111, 11.11111111111111, 11.11111111111111, 11.11111111111111, 11.11111111111111, 11.1111111111111]}, 'Body': {'traits': ['Body_1.png', 'Body_3.png', 'Body_10.png', 'Body_11.png', 'Body_2.png', 'Body_6.png', 'Body_7.png', 'Body_5.png', 'Body_4.png', 'Body_9.png', 'Body_8.png'], 'weights': [9.090909090909092, 9.090909090909092, 9.090909090909092, 9.090909090909092, 9.090909090909092, 9.090909090909092, 9.090909090909092, 9.090909090909092, 9.090909090909092, 9.090909090909092, 9.09090909090908]}, 'Mouth': {'traits': ['Mouth_15.png', 'Mouth_01.png', 'Mouth_14.png', 'Mouth_02.png', 'Mouth_16.png', 'Mouth_17.png', 'Mouth_03.png', 'Mouth_07.png', 'Mouth_13.png', 'Mouth_12.png', 'Mouth_06.png', 'Mouth_10.png', 'Mouth_04.png', 'Mouth_05.png', 'Mouth_11.png', 'Mouth_08.png', 'Mouth_09.png', 'Mouth_19.png', 'Mouth_18.png'], 'weights': [5.2631578947368425, 5.2631578947368425, 5.2631578947368425, 5.2631578947368425, 5.2631578947368425, 5.2631578947368425, 5.2631578947368425, 5.2631578947368425, 5.2631578947368425, 5.2631578947368425, 5.2631578947368425, 5.2631578947368425, 5.2631578947368425, 5.2631578947368425, 5.2631578947368425, 5.2631578947368425, 5.2631578947368425, 5.2631578947368425, 5.263157894736793]}, 'Cheek': {'traits': ['Cheek_01.png', 'Cheek_03.png', 'Cheek_02.png', 'Cheek_05.png', 'Cheek_04.png'], 'weights': [20.0, 20.0, 20.0, 20.0, 20.0]}, 'Head': {'traits': ['Head_14.png', 'Head_01.png', 'Head_15.png', 'Head_03.png', 'Head_02.png', 'Head_06.png', 'Head_12.png', 'Head_13.png', 'Head_07.png', 'Head_11.png', 'Head_05.png', 'Head_04.png', 'Head_09.png', 'Head_08.png'], 'weights': [7.142857142857143, 7.142857142857143, 7.142857142857143, 7.142857142857143, 7.142857142857143, 7.142857142857143, 7.142857142857143, 7.142857142857143, 7.142857142857143, 7.142857142857143, 7.142857142857143, 7.142857142857143, 7.142857142857143, 7.142857142857153]}, 'BG': {'traits': ['BG_18.png', 'BG_08.png', 'BG_09.png', 'BG_13.png', 'BG_07.png', 'BG_06.png', 'BG_12.png', 'BG_04.png', 'BG_10.png', 'BG_11.png', 'BG_05.png', 'BG_01.png', 'BG_15.png', 'BG_14.png', 'BG_16.png', 'BG_02.png', 'BG_03.png', 'BG_17.png'], 'weights': [5.555555555555555, 5.555555555555555, 5.555555555555555, 5.555555555555555, 5.555555555555555, 5.555555555555555, 5.555555555555555, 5.555555555555555, 5.555555555555555, 5.555555555555555, 5.555555555555555, 5.555555555555555, 5.555555555555555, 5.555555555555555, 5.555555555555555, 5.555555555555555, 5.555555555555555, 5.555555555555543]}, 'Cloth': {'traits': ['Cloth_22.png', 'Cloth_23.png', 'Cloth_21.png', 'Cloth_09.png', 'Cloth_08.png', 'Cloth_20.png', 'Cloth_18.png', 'Cloth_24.png', 'Cloth_19.png', 'Cloth_17.png', 'Cloth_03.png', 'Cloth_02.png', 'Cloth_16.png', 'Cloth_14.png', 'Cloth_15.png', 'Cloth_01.png', 'Cloth_05.png', 'Cloth_11.png', 'Cloth_10.png', 'Cloth_04.png', 'Cloth_12.png', 'Cloth_06.png', 'Cloth_07.png', 'Cloth_13.png'], 'weights': [4.166666666666667, 4.166666666666667, 4.166666666666667, 4.166666666666667, 4.166666666666667, 4.166666666666667, 4.166666666666667, 4.166666666666667, 4.166666666666667, 4.166666666666667, 4.166666666666667, 4.166666666666667, 4.166666666666667, 4.166666666666667, 4.166666666666667, 4.166666666666667, 4.166666666666667, 4.166666666666667, 4.166666666666667, 4.166666666666667, 4.166666666666667, 4.166666666666667, 4.166666666666667, 4.166666666666643]}}, 'layer_order': ['BG', 'Body', 'Cloth', 'Head', 'Eye', 'Mouth', 'Cheek', 'Hand'], 'incompatibilities': []}\n"
     ]
    }
   ],
   "source": [
    "print(layer_config)"
   ]
  },
  {
   "cell_type": "code",
   "execution_count": 4,
   "metadata": {},
   "outputs": [],
   "source": [
    "## Generate Traits\n",
    "\n",
    "TOTAL_IMAGES = 100 # Number of random unique images we want to generate\n",
    "\n",
    "all_images = []\n",
    "\n",
    "layers = []\n",
    "\n",
    "# A recursive function to generate unique image combinations\n",
    "def create_new_image():\n",
    "    \n",
    "    new_image = {} #\n",
    "\n",
    "    # For each trait category, select a random trait based on the weightings\n",
    "    for layer in layer_config[\"layers\"]:\n",
    "        new_image[layer] = random.choices(layer_config[\"layers\"][layer]['traits'], layer_config[\"layers\"][layer]['weights'])[0]\n",
    "    \n",
    "    # Create new image if has incampatable trait\n",
    "    for incompat in layer_config[\"incompatibilities\"]:\n",
    "        for attr in new_image:\n",
    "            if new_image[incompat['layer']] == incompat['value'] and new_image[attr] in incompat['incompatible_with']:\n",
    "                return create_new_image()\n",
    "        \n",
    "    \n",
    "    if new_image in all_images:\n",
    "        return create_new_image()\n",
    "    else:\n",
    "        return new_image\n",
    "    \n",
    "    \n",
    "# Generate the unique combinations based on trait weightings\n",
    "for i in range(TOTAL_IMAGES): \n",
    "    \n",
    "    new_trait_image = create_new_image()\n",
    "    \n",
    "    all_images.append(new_trait_image)\n",
    "    \n"
   ]
  },
  {
   "cell_type": "code",
   "execution_count": 5,
   "metadata": {},
   "outputs": [
    {
     "name": "stdout",
     "output_type": "stream",
     "text": [
      "Are all images unique? True\n"
     ]
    }
   ],
   "source": [
    "# Returns true if all images are unique\n",
    "def all_images_unique(all_images):\n",
    "    seen = list()\n",
    "    return not any(i in seen or seen.append(i) for i in all_images)\n",
    "\n",
    "print(\"Are all images unique?\", all_images_unique(all_images))"
   ]
  },
  {
   "cell_type": "code",
   "execution_count": 6,
   "metadata": {},
   "outputs": [],
   "source": [
    "# Add token Id to each image\n",
    "i = 0\n",
    "for item in all_images:\n",
    "    item[\"tokenId\"] = i\n",
    "    i = i + 1"
   ]
  },
  {
   "cell_type": "code",
   "execution_count": 7,
   "metadata": {
    "scrolled": true,
    "tags": []
   },
   "outputs": [
    {
     "name": "stdout",
     "output_type": "stream",
     "text": [
      "[{'Hand': 'Hand_18.png', 'Eye': 'Eye_06.png', 'Body': 'Body_6.png', 'Mouth': 'Mouth_02.png', 'Cheek': 'Cheek_02.png', 'Head': 'Head_09.png', 'BG': 'BG_05.png', 'Cloth': 'Cloth_20.png', 'tokenId': 0}, {'Hand': 'Hand_15.png', 'Eye': 'Eye_04.png', 'Body': 'Body_11.png', 'Mouth': 'Mouth_17.png', 'Cheek': 'Cheek_05.png', 'Head': 'Head_13.png', 'BG': 'BG_13.png', 'Cloth': 'Cloth_07.png', 'tokenId': 1}, {'Hand': 'Hand_13.png', 'Eye': 'Eye_03.png', 'Body': 'Body_11.png', 'Mouth': 'Mouth_02.png', 'Cheek': 'Cheek_02.png', 'Head': 'Head_12.png', 'BG': 'BG_14.png', 'Cloth': 'Cloth_10.png', 'tokenId': 2}, {'Hand': 'Hand_13.png', 'Eye': 'Eye_08.png', 'Body': 'Body_4.png', 'Mouth': 'Mouth_09.png', 'Cheek': 'Cheek_03.png', 'Head': 'Head_12.png', 'BG': 'BG_13.png', 'Cloth': 'Cloth_03.png', 'tokenId': 3}, {'Hand': 'Hand_04.png', 'Eye': 'Eye_04.png', 'Body': 'Body_5.png', 'Mouth': 'Mouth_05.png', 'Cheek': 'Cheek_03.png', 'Head': 'Head_03.png', 'BG': 'BG_13.png', 'Cloth': 'Cloth_15.png', 'tokenId': 4}, {'Hand': 'Hand_09.png', 'Eye': 'Eye_03.png', 'Body': 'Body_7.png', 'Mouth': 'Mouth_12.png', 'Cheek': 'Cheek_04.png', 'Head': 'Head_09.png', 'BG': 'BG_05.png', 'Cloth': 'Cloth_02.png', 'tokenId': 5}, {'Hand': 'Hand_03.png', 'Eye': 'Eye_05.png', 'Body': 'Body_6.png', 'Mouth': 'Mouth_09.png', 'Cheek': 'Cheek_02.png', 'Head': 'Head_09.png', 'BG': 'BG_09.png', 'Cloth': 'Cloth_21.png', 'tokenId': 6}, {'Hand': 'Hand_01.png', 'Eye': 'Eye_06.png', 'Body': 'Body_10.png', 'Mouth': 'Mouth_05.png', 'Cheek': 'Cheek_05.png', 'Head': 'Head_09.png', 'BG': 'BG_12.png', 'Cloth': 'Cloth_07.png', 'tokenId': 7}, {'Hand': 'Hand_01.png', 'Eye': 'Eye_06.png', 'Body': 'Body_5.png', 'Mouth': 'Mouth_13.png', 'Cheek': 'Cheek_03.png', 'Head': 'Head_01.png', 'BG': 'BG_12.png', 'Cloth': 'Cloth_21.png', 'tokenId': 8}, {'Hand': 'Hand_06.png', 'Eye': 'Eye_07.png', 'Body': 'Body_7.png', 'Mouth': 'Mouth_08.png', 'Cheek': 'Cheek_05.png', 'Head': 'Head_15.png', 'BG': 'BG_01.png', 'Cloth': 'Cloth_06.png', 'tokenId': 9}, {'Hand': 'Hand_09.png', 'Eye': 'Eye_05.png', 'Body': 'Body_7.png', 'Mouth': 'Mouth_17.png', 'Cheek': 'Cheek_01.png', 'Head': 'Head_01.png', 'BG': 'BG_01.png', 'Cloth': 'Cloth_17.png', 'tokenId': 10}, {'Hand': 'Hand_13.png', 'Eye': 'Eye_05.png', 'Body': 'Body_11.png', 'Mouth': 'Mouth_04.png', 'Cheek': 'Cheek_03.png', 'Head': 'Head_15.png', 'BG': 'BG_07.png', 'Cloth': 'Cloth_20.png', 'tokenId': 11}, {'Hand': 'Hand_02.png', 'Eye': 'Eye_02.png', 'Body': 'Body_2.png', 'Mouth': 'Mouth_15.png', 'Cheek': 'Cheek_02.png', 'Head': 'Head_07.png', 'BG': 'BG_06.png', 'Cloth': 'Cloth_08.png', 'tokenId': 12}, {'Hand': 'Hand_15.png', 'Eye': 'Eye_04.png', 'Body': 'Body_9.png', 'Mouth': 'Mouth_06.png', 'Cheek': 'Cheek_02.png', 'Head': 'Head_15.png', 'BG': 'BG_17.png', 'Cloth': 'Cloth_09.png', 'tokenId': 13}, {'Hand': 'Hand_03.png', 'Eye': 'Eye_02.png', 'Body': 'Body_4.png', 'Mouth': 'Mouth_13.png', 'Cheek': 'Cheek_05.png', 'Head': 'Head_14.png', 'BG': 'BG_02.png', 'Cloth': 'Cloth_18.png', 'tokenId': 14}, {'Hand': 'Hand_05.png', 'Eye': 'Eye_05.png', 'Body': 'Body_9.png', 'Mouth': 'Mouth_12.png', 'Cheek': 'Cheek_05.png', 'Head': 'Head_15.png', 'BG': 'BG_13.png', 'Cloth': 'Cloth_04.png', 'tokenId': 15}, {'Hand': 'Hand_17.png', 'Eye': 'Eye_01.png', 'Body': 'Body_5.png', 'Mouth': 'Mouth_07.png', 'Cheek': 'Cheek_05.png', 'Head': 'Head_07.png', 'BG': 'BG_06.png', 'Cloth': 'Cloth_12.png', 'tokenId': 16}, {'Hand': 'Hand_09.png', 'Eye': 'Eye_06.png', 'Body': 'Body_10.png', 'Mouth': 'Mouth_14.png', 'Cheek': 'Cheek_02.png', 'Head': 'Head_03.png', 'BG': 'BG_07.png', 'Cloth': 'Cloth_01.png', 'tokenId': 17}, {'Hand': 'Hand_16.png', 'Eye': 'Eye_06.png', 'Body': 'Body_7.png', 'Mouth': 'Mouth_05.png', 'Cheek': 'Cheek_04.png', 'Head': 'Head_03.png', 'BG': 'BG_10.png', 'Cloth': 'Cloth_22.png', 'tokenId': 18}, {'Hand': 'Hand_08.png', 'Eye': 'Eye_04.png', 'Body': 'Body_6.png', 'Mouth': 'Mouth_13.png', 'Cheek': 'Cheek_05.png', 'Head': 'Head_09.png', 'BG': 'BG_16.png', 'Cloth': 'Cloth_17.png', 'tokenId': 19}, {'Hand': 'Hand_04.png', 'Eye': 'Eye_02.png', 'Body': 'Body_6.png', 'Mouth': 'Mouth_17.png', 'Cheek': 'Cheek_01.png', 'Head': 'Head_05.png', 'BG': 'BG_14.png', 'Cloth': 'Cloth_17.png', 'tokenId': 20}, {'Hand': 'Hand_10.png', 'Eye': 'Eye_09.png', 'Body': 'Body_9.png', 'Mouth': 'Mouth_03.png', 'Cheek': 'Cheek_05.png', 'Head': 'Head_14.png', 'BG': 'BG_13.png', 'Cloth': 'Cloth_01.png', 'tokenId': 21}, {'Hand': 'Hand_10.png', 'Eye': 'Eye_01.png', 'Body': 'Body_8.png', 'Mouth': 'Mouth_06.png', 'Cheek': 'Cheek_02.png', 'Head': 'Head_02.png', 'BG': 'BG_03.png', 'Cloth': 'Cloth_03.png', 'tokenId': 22}, {'Hand': 'Hand_10.png', 'Eye': 'Eye_07.png', 'Body': 'Body_9.png', 'Mouth': 'Mouth_01.png', 'Cheek': 'Cheek_05.png', 'Head': 'Head_08.png', 'BG': 'BG_12.png', 'Cloth': 'Cloth_03.png', 'tokenId': 23}, {'Hand': 'Hand_20.png', 'Eye': 'Eye_02.png', 'Body': 'Body_8.png', 'Mouth': 'Mouth_01.png', 'Cheek': 'Cheek_01.png', 'Head': 'Head_02.png', 'BG': 'BG_01.png', 'Cloth': 'Cloth_10.png', 'tokenId': 24}, {'Hand': 'Hand_07.png', 'Eye': 'Eye_04.png', 'Body': 'Body_10.png', 'Mouth': 'Mouth_14.png', 'Cheek': 'Cheek_03.png', 'Head': 'Head_07.png', 'BG': 'BG_10.png', 'Cloth': 'Cloth_04.png', 'tokenId': 25}, {'Hand': 'Hand_20.png', 'Eye': 'Eye_02.png', 'Body': 'Body_11.png', 'Mouth': 'Mouth_06.png', 'Cheek': 'Cheek_03.png', 'Head': 'Head_04.png', 'BG': 'BG_16.png', 'Cloth': 'Cloth_12.png', 'tokenId': 26}, {'Hand': 'Hand_15.png', 'Eye': 'Eye_07.png', 'Body': 'Body_11.png', 'Mouth': 'Mouth_12.png', 'Cheek': 'Cheek_03.png', 'Head': 'Head_09.png', 'BG': 'BG_14.png', 'Cloth': 'Cloth_19.png', 'tokenId': 27}, {'Hand': 'Hand_07.png', 'Eye': 'Eye_07.png', 'Body': 'Body_1.png', 'Mouth': 'Mouth_14.png', 'Cheek': 'Cheek_04.png', 'Head': 'Head_04.png', 'BG': 'BG_06.png', 'Cloth': 'Cloth_02.png', 'tokenId': 28}, {'Hand': 'Hand_09.png', 'Eye': 'Eye_01.png', 'Body': 'Body_8.png', 'Mouth': 'Mouth_18.png', 'Cheek': 'Cheek_03.png', 'Head': 'Head_11.png', 'BG': 'BG_14.png', 'Cloth': 'Cloth_21.png', 'tokenId': 29}, {'Hand': 'Hand_06.png', 'Eye': 'Eye_04.png', 'Body': 'Body_9.png', 'Mouth': 'Mouth_06.png', 'Cheek': 'Cheek_04.png', 'Head': 'Head_12.png', 'BG': 'BG_16.png', 'Cloth': 'Cloth_01.png', 'tokenId': 30}, {'Hand': 'Hand_04.png', 'Eye': 'Eye_03.png', 'Body': 'Body_11.png', 'Mouth': 'Mouth_09.png', 'Cheek': 'Cheek_04.png', 'Head': 'Head_01.png', 'BG': 'BG_17.png', 'Cloth': 'Cloth_14.png', 'tokenId': 31}, {'Hand': 'Hand_19.png', 'Eye': 'Eye_07.png', 'Body': 'Body_2.png', 'Mouth': 'Mouth_13.png', 'Cheek': 'Cheek_01.png', 'Head': 'Head_12.png', 'BG': 'BG_05.png', 'Cloth': 'Cloth_03.png', 'tokenId': 32}, {'Hand': 'Hand_03.png', 'Eye': 'Eye_02.png', 'Body': 'Body_2.png', 'Mouth': 'Mouth_09.png', 'Cheek': 'Cheek_02.png', 'Head': 'Head_01.png', 'BG': 'BG_17.png', 'Cloth': 'Cloth_05.png', 'tokenId': 33}, {'Hand': 'Hand_10.png', 'Eye': 'Eye_09.png', 'Body': 'Body_10.png', 'Mouth': 'Mouth_04.png', 'Cheek': 'Cheek_04.png', 'Head': 'Head_06.png', 'BG': 'BG_08.png', 'Cloth': 'Cloth_12.png', 'tokenId': 34}, {'Hand': 'Hand_12.png', 'Eye': 'Eye_03.png', 'Body': 'Body_2.png', 'Mouth': 'Mouth_03.png', 'Cheek': 'Cheek_04.png', 'Head': 'Head_11.png', 'BG': 'BG_15.png', 'Cloth': 'Cloth_15.png', 'tokenId': 35}, {'Hand': 'Hand_10.png', 'Eye': 'Eye_08.png', 'Body': 'Body_4.png', 'Mouth': 'Mouth_11.png', 'Cheek': 'Cheek_05.png', 'Head': 'Head_15.png', 'BG': 'BG_07.png', 'Cloth': 'Cloth_17.png', 'tokenId': 36}, {'Hand': 'Hand_19.png', 'Eye': 'Eye_09.png', 'Body': 'Body_11.png', 'Mouth': 'Mouth_14.png', 'Cheek': 'Cheek_03.png', 'Head': 'Head_12.png', 'BG': 'BG_04.png', 'Cloth': 'Cloth_17.png', 'tokenId': 37}, {'Hand': 'Hand_04.png', 'Eye': 'Eye_08.png', 'Body': 'Body_2.png', 'Mouth': 'Mouth_02.png', 'Cheek': 'Cheek_04.png', 'Head': 'Head_06.png', 'BG': 'BG_02.png', 'Cloth': 'Cloth_05.png', 'tokenId': 38}, {'Hand': 'Hand_15.png', 'Eye': 'Eye_03.png', 'Body': 'Body_7.png', 'Mouth': 'Mouth_14.png', 'Cheek': 'Cheek_02.png', 'Head': 'Head_09.png', 'BG': 'BG_01.png', 'Cloth': 'Cloth_03.png', 'tokenId': 39}, {'Hand': 'Hand_19.png', 'Eye': 'Eye_06.png', 'Body': 'Body_5.png', 'Mouth': 'Mouth_05.png', 'Cheek': 'Cheek_04.png', 'Head': 'Head_03.png', 'BG': 'BG_17.png', 'Cloth': 'Cloth_08.png', 'tokenId': 40}, {'Hand': 'Hand_19.png', 'Eye': 'Eye_01.png', 'Body': 'Body_10.png', 'Mouth': 'Mouth_07.png', 'Cheek': 'Cheek_03.png', 'Head': 'Head_06.png', 'BG': 'BG_11.png', 'Cloth': 'Cloth_23.png', 'tokenId': 41}, {'Hand': 'Hand_20.png', 'Eye': 'Eye_01.png', 'Body': 'Body_7.png', 'Mouth': 'Mouth_13.png', 'Cheek': 'Cheek_04.png', 'Head': 'Head_14.png', 'BG': 'BG_01.png', 'Cloth': 'Cloth_24.png', 'tokenId': 42}, {'Hand': 'Hand_16.png', 'Eye': 'Eye_08.png', 'Body': 'Body_4.png', 'Mouth': 'Mouth_10.png', 'Cheek': 'Cheek_05.png', 'Head': 'Head_06.png', 'BG': 'BG_13.png', 'Cloth': 'Cloth_03.png', 'tokenId': 43}, {'Hand': 'Hand_14.png', 'Eye': 'Eye_04.png', 'Body': 'Body_9.png', 'Mouth': 'Mouth_14.png', 'Cheek': 'Cheek_03.png', 'Head': 'Head_02.png', 'BG': 'BG_01.png', 'Cloth': 'Cloth_10.png', 'tokenId': 44}, {'Hand': 'Hand_04.png', 'Eye': 'Eye_09.png', 'Body': 'Body_7.png', 'Mouth': 'Mouth_10.png', 'Cheek': 'Cheek_05.png', 'Head': 'Head_13.png', 'BG': 'BG_12.png', 'Cloth': 'Cloth_05.png', 'tokenId': 45}, {'Hand': 'Hand_18.png', 'Eye': 'Eye_05.png', 'Body': 'Body_8.png', 'Mouth': 'Mouth_17.png', 'Cheek': 'Cheek_04.png', 'Head': 'Head_09.png', 'BG': 'BG_12.png', 'Cloth': 'Cloth_11.png', 'tokenId': 46}, {'Hand': 'Hand_05.png', 'Eye': 'Eye_04.png', 'Body': 'Body_8.png', 'Mouth': 'Mouth_10.png', 'Cheek': 'Cheek_03.png', 'Head': 'Head_07.png', 'BG': 'BG_05.png', 'Cloth': 'Cloth_10.png', 'tokenId': 47}, {'Hand': 'Hand_19.png', 'Eye': 'Eye_06.png', 'Body': 'Body_3.png', 'Mouth': 'Mouth_06.png', 'Cheek': 'Cheek_03.png', 'Head': 'Head_01.png', 'BG': 'BG_03.png', 'Cloth': 'Cloth_23.png', 'tokenId': 48}, {'Hand': 'Hand_08.png', 'Eye': 'Eye_01.png', 'Body': 'Body_6.png', 'Mouth': 'Mouth_03.png', 'Cheek': 'Cheek_02.png', 'Head': 'Head_04.png', 'BG': 'BG_02.png', 'Cloth': 'Cloth_22.png', 'tokenId': 49}, {'Hand': 'Hand_18.png', 'Eye': 'Eye_04.png', 'Body': 'Body_5.png', 'Mouth': 'Mouth_16.png', 'Cheek': 'Cheek_03.png', 'Head': 'Head_01.png', 'BG': 'BG_13.png', 'Cloth': 'Cloth_06.png', 'tokenId': 50}, {'Hand': 'Hand_10.png', 'Eye': 'Eye_01.png', 'Body': 'Body_4.png', 'Mouth': 'Mouth_16.png', 'Cheek': 'Cheek_04.png', 'Head': 'Head_05.png', 'BG': 'BG_07.png', 'Cloth': 'Cloth_17.png', 'tokenId': 51}, {'Hand': 'Hand_01.png', 'Eye': 'Eye_03.png', 'Body': 'Body_11.png', 'Mouth': 'Mouth_17.png', 'Cheek': 'Cheek_04.png', 'Head': 'Head_03.png', 'BG': 'BG_05.png', 'Cloth': 'Cloth_16.png', 'tokenId': 52}, {'Hand': 'Hand_11.png', 'Eye': 'Eye_02.png', 'Body': 'Body_8.png', 'Mouth': 'Mouth_15.png', 'Cheek': 'Cheek_04.png', 'Head': 'Head_13.png', 'BG': 'BG_04.png', 'Cloth': 'Cloth_17.png', 'tokenId': 53}, {'Hand': 'Hand_06.png', 'Eye': 'Eye_02.png', 'Body': 'Body_9.png', 'Mouth': 'Mouth_08.png', 'Cheek': 'Cheek_04.png', 'Head': 'Head_07.png', 'BG': 'BG_04.png', 'Cloth': 'Cloth_18.png', 'tokenId': 54}, {'Hand': 'Hand_05.png', 'Eye': 'Eye_09.png', 'Body': 'Body_10.png', 'Mouth': 'Mouth_06.png', 'Cheek': 'Cheek_04.png', 'Head': 'Head_09.png', 'BG': 'BG_06.png', 'Cloth': 'Cloth_14.png', 'tokenId': 55}, {'Hand': 'Hand_21.png', 'Eye': 'Eye_05.png', 'Body': 'Body_10.png', 'Mouth': 'Mouth_07.png', 'Cheek': 'Cheek_04.png', 'Head': 'Head_13.png', 'BG': 'BG_11.png', 'Cloth': 'Cloth_07.png', 'tokenId': 56}, {'Hand': 'Hand_06.png', 'Eye': 'Eye_06.png', 'Body': 'Body_7.png', 'Mouth': 'Mouth_16.png', 'Cheek': 'Cheek_04.png', 'Head': 'Head_07.png', 'BG': 'BG_06.png', 'Cloth': 'Cloth_16.png', 'tokenId': 57}, {'Hand': 'Hand_12.png', 'Eye': 'Eye_07.png', 'Body': 'Body_4.png', 'Mouth': 'Mouth_10.png', 'Cheek': 'Cheek_03.png', 'Head': 'Head_07.png', 'BG': 'BG_01.png', 'Cloth': 'Cloth_06.png', 'tokenId': 58}, {'Hand': 'Hand_13.png', 'Eye': 'Eye_08.png', 'Body': 'Body_11.png', 'Mouth': 'Mouth_16.png', 'Cheek': 'Cheek_04.png', 'Head': 'Head_04.png', 'BG': 'BG_15.png', 'Cloth': 'Cloth_07.png', 'tokenId': 59}, {'Hand': 'Hand_13.png', 'Eye': 'Eye_04.png', 'Body': 'Body_5.png', 'Mouth': 'Mouth_09.png', 'Cheek': 'Cheek_01.png', 'Head': 'Head_13.png', 'BG': 'BG_02.png', 'Cloth': 'Cloth_15.png', 'tokenId': 60}, {'Hand': 'Hand_06.png', 'Eye': 'Eye_02.png', 'Body': 'Body_11.png', 'Mouth': 'Mouth_02.png', 'Cheek': 'Cheek_04.png', 'Head': 'Head_02.png', 'BG': 'BG_07.png', 'Cloth': 'Cloth_11.png', 'tokenId': 61}, {'Hand': 'Hand_03.png', 'Eye': 'Eye_02.png', 'Body': 'Body_6.png', 'Mouth': 'Mouth_05.png', 'Cheek': 'Cheek_04.png', 'Head': 'Head_11.png', 'BG': 'BG_14.png', 'Cloth': 'Cloth_19.png', 'tokenId': 62}, {'Hand': 'Hand_08.png', 'Eye': 'Eye_06.png', 'Body': 'Body_11.png', 'Mouth': 'Mouth_18.png', 'Cheek': 'Cheek_04.png', 'Head': 'Head_05.png', 'BG': 'BG_09.png', 'Cloth': 'Cloth_13.png', 'tokenId': 63}, {'Hand': 'Hand_21.png', 'Eye': 'Eye_05.png', 'Body': 'Body_3.png', 'Mouth': 'Mouth_15.png', 'Cheek': 'Cheek_03.png', 'Head': 'Head_06.png', 'BG': 'BG_03.png', 'Cloth': 'Cloth_04.png', 'tokenId': 64}, {'Hand': 'Hand_21.png', 'Eye': 'Eye_03.png', 'Body': 'Body_5.png', 'Mouth': 'Mouth_10.png', 'Cheek': 'Cheek_04.png', 'Head': 'Head_08.png', 'BG': 'BG_06.png', 'Cloth': 'Cloth_05.png', 'tokenId': 65}, {'Hand': 'Hand_01.png', 'Eye': 'Eye_03.png', 'Body': 'Body_8.png', 'Mouth': 'Mouth_03.png', 'Cheek': 'Cheek_03.png', 'Head': 'Head_09.png', 'BG': 'BG_13.png', 'Cloth': 'Cloth_04.png', 'tokenId': 66}, {'Hand': 'Hand_05.png', 'Eye': 'Eye_01.png', 'Body': 'Body_3.png', 'Mouth': 'Mouth_16.png', 'Cheek': 'Cheek_05.png', 'Head': 'Head_13.png', 'BG': 'BG_12.png', 'Cloth': 'Cloth_08.png', 'tokenId': 67}, {'Hand': 'Hand_14.png', 'Eye': 'Eye_09.png', 'Body': 'Body_1.png', 'Mouth': 'Mouth_02.png', 'Cheek': 'Cheek_02.png', 'Head': 'Head_08.png', 'BG': 'BG_14.png', 'Cloth': 'Cloth_12.png', 'tokenId': 68}, {'Hand': 'Hand_09.png', 'Eye': 'Eye_01.png', 'Body': 'Body_10.png', 'Mouth': 'Mouth_18.png', 'Cheek': 'Cheek_03.png', 'Head': 'Head_05.png', 'BG': 'BG_09.png', 'Cloth': 'Cloth_04.png', 'tokenId': 69}, {'Hand': 'Hand_14.png', 'Eye': 'Eye_08.png', 'Body': 'Body_9.png', 'Mouth': 'Mouth_03.png', 'Cheek': 'Cheek_05.png', 'Head': 'Head_04.png', 'BG': 'BG_02.png', 'Cloth': 'Cloth_21.png', 'tokenId': 70}, {'Hand': 'Hand_06.png', 'Eye': 'Eye_02.png', 'Body': 'Body_7.png', 'Mouth': 'Mouth_10.png', 'Cheek': 'Cheek_04.png', 'Head': 'Head_06.png', 'BG': 'BG_10.png', 'Cloth': 'Cloth_05.png', 'tokenId': 71}, {'Hand': 'Hand_21.png', 'Eye': 'Eye_05.png', 'Body': 'Body_2.png', 'Mouth': 'Mouth_02.png', 'Cheek': 'Cheek_05.png', 'Head': 'Head_01.png', 'BG': 'BG_10.png', 'Cloth': 'Cloth_19.png', 'tokenId': 72}, {'Hand': 'Hand_12.png', 'Eye': 'Eye_08.png', 'Body': 'Body_7.png', 'Mouth': 'Mouth_10.png', 'Cheek': 'Cheek_05.png', 'Head': 'Head_09.png', 'BG': 'BG_01.png', 'Cloth': 'Cloth_20.png', 'tokenId': 73}, {'Hand': 'Hand_06.png', 'Eye': 'Eye_01.png', 'Body': 'Body_8.png', 'Mouth': 'Mouth_03.png', 'Cheek': 'Cheek_02.png', 'Head': 'Head_08.png', 'BG': 'BG_02.png', 'Cloth': 'Cloth_12.png', 'tokenId': 74}, {'Hand': 'Hand_07.png', 'Eye': 'Eye_07.png', 'Body': 'Body_6.png', 'Mouth': 'Mouth_08.png', 'Cheek': 'Cheek_03.png', 'Head': 'Head_08.png', 'BG': 'BG_01.png', 'Cloth': 'Cloth_09.png', 'tokenId': 75}, {'Hand': 'Hand_01.png', 'Eye': 'Eye_06.png', 'Body': 'Body_1.png', 'Mouth': 'Mouth_14.png', 'Cheek': 'Cheek_04.png', 'Head': 'Head_14.png', 'BG': 'BG_12.png', 'Cloth': 'Cloth_02.png', 'tokenId': 76}, {'Hand': 'Hand_17.png', 'Eye': 'Eye_02.png', 'Body': 'Body_2.png', 'Mouth': 'Mouth_13.png', 'Cheek': 'Cheek_02.png', 'Head': 'Head_06.png', 'BG': 'BG_07.png', 'Cloth': 'Cloth_24.png', 'tokenId': 77}, {'Hand': 'Hand_03.png', 'Eye': 'Eye_08.png', 'Body': 'Body_1.png', 'Mouth': 'Mouth_18.png', 'Cheek': 'Cheek_04.png', 'Head': 'Head_05.png', 'BG': 'BG_16.png', 'Cloth': 'Cloth_19.png', 'tokenId': 78}, {'Hand': 'Hand_03.png', 'Eye': 'Eye_03.png', 'Body': 'Body_11.png', 'Mouth': 'Mouth_19.png', 'Cheek': 'Cheek_03.png', 'Head': 'Head_09.png', 'BG': 'BG_08.png', 'Cloth': 'Cloth_05.png', 'tokenId': 79}, {'Hand': 'Hand_21.png', 'Eye': 'Eye_07.png', 'Body': 'Body_9.png', 'Mouth': 'Mouth_13.png', 'Cheek': 'Cheek_02.png', 'Head': 'Head_15.png', 'BG': 'BG_17.png', 'Cloth': 'Cloth_22.png', 'tokenId': 80}, {'Hand': 'Hand_02.png', 'Eye': 'Eye_05.png', 'Body': 'Body_5.png', 'Mouth': 'Mouth_12.png', 'Cheek': 'Cheek_03.png', 'Head': 'Head_09.png', 'BG': 'BG_11.png', 'Cloth': 'Cloth_22.png', 'tokenId': 81}, {'Hand': 'Hand_21.png', 'Eye': 'Eye_08.png', 'Body': 'Body_5.png', 'Mouth': 'Mouth_12.png', 'Cheek': 'Cheek_03.png', 'Head': 'Head_11.png', 'BG': 'BG_01.png', 'Cloth': 'Cloth_24.png', 'tokenId': 82}, {'Hand': 'Hand_13.png', 'Eye': 'Eye_04.png', 'Body': 'Body_11.png', 'Mouth': 'Mouth_16.png', 'Cheek': 'Cheek_04.png', 'Head': 'Head_01.png', 'BG': 'BG_11.png', 'Cloth': 'Cloth_18.png', 'tokenId': 83}, {'Hand': 'Hand_06.png', 'Eye': 'Eye_09.png', 'Body': 'Body_10.png', 'Mouth': 'Mouth_10.png', 'Cheek': 'Cheek_03.png', 'Head': 'Head_03.png', 'BG': 'BG_13.png', 'Cloth': 'Cloth_11.png', 'tokenId': 84}, {'Hand': 'Hand_11.png', 'Eye': 'Eye_08.png', 'Body': 'Body_9.png', 'Mouth': 'Mouth_03.png', 'Cheek': 'Cheek_05.png', 'Head': 'Head_07.png', 'BG': 'BG_15.png', 'Cloth': 'Cloth_12.png', 'tokenId': 85}, {'Hand': 'Hand_03.png', 'Eye': 'Eye_07.png', 'Body': 'Body_1.png', 'Mouth': 'Mouth_14.png', 'Cheek': 'Cheek_01.png', 'Head': 'Head_06.png', 'BG': 'BG_06.png', 'Cloth': 'Cloth_06.png', 'tokenId': 86}, {'Hand': 'Hand_10.png', 'Eye': 'Eye_01.png', 'Body': 'Body_6.png', 'Mouth': 'Mouth_19.png', 'Cheek': 'Cheek_02.png', 'Head': 'Head_13.png', 'BG': 'BG_11.png', 'Cloth': 'Cloth_14.png', 'tokenId': 87}, {'Hand': 'Hand_03.png', 'Eye': 'Eye_01.png', 'Body': 'Body_8.png', 'Mouth': 'Mouth_16.png', 'Cheek': 'Cheek_05.png', 'Head': 'Head_12.png', 'BG': 'BG_17.png', 'Cloth': 'Cloth_07.png', 'tokenId': 88}, {'Hand': 'Hand_07.png', 'Eye': 'Eye_01.png', 'Body': 'Body_6.png', 'Mouth': 'Mouth_15.png', 'Cheek': 'Cheek_03.png', 'Head': 'Head_04.png', 'BG': 'BG_03.png', 'Cloth': 'Cloth_03.png', 'tokenId': 89}, {'Hand': 'Hand_09.png', 'Eye': 'Eye_07.png', 'Body': 'Body_11.png', 'Mouth': 'Mouth_09.png', 'Cheek': 'Cheek_03.png', 'Head': 'Head_08.png', 'BG': 'BG_14.png', 'Cloth': 'Cloth_06.png', 'tokenId': 90}, {'Hand': 'Hand_07.png', 'Eye': 'Eye_07.png', 'Body': 'Body_4.png', 'Mouth': 'Mouth_03.png', 'Cheek': 'Cheek_01.png', 'Head': 'Head_08.png', 'BG': 'BG_13.png', 'Cloth': 'Cloth_11.png', 'tokenId': 91}, {'Hand': 'Hand_02.png', 'Eye': 'Eye_03.png', 'Body': 'Body_5.png', 'Mouth': 'Mouth_08.png', 'Cheek': 'Cheek_05.png', 'Head': 'Head_14.png', 'BG': 'BG_06.png', 'Cloth': 'Cloth_20.png', 'tokenId': 92}, {'Hand': 'Hand_13.png', 'Eye': 'Eye_03.png', 'Body': 'Body_6.png', 'Mouth': 'Mouth_14.png', 'Cheek': 'Cheek_05.png', 'Head': 'Head_12.png', 'BG': 'BG_04.png', 'Cloth': 'Cloth_20.png', 'tokenId': 93}, {'Hand': 'Hand_06.png', 'Eye': 'Eye_02.png', 'Body': 'Body_2.png', 'Mouth': 'Mouth_18.png', 'Cheek': 'Cheek_04.png', 'Head': 'Head_01.png', 'BG': 'BG_16.png', 'Cloth': 'Cloth_13.png', 'tokenId': 94}, {'Hand': 'Hand_20.png', 'Eye': 'Eye_09.png', 'Body': 'Body_8.png', 'Mouth': 'Mouth_19.png', 'Cheek': 'Cheek_04.png', 'Head': 'Head_12.png', 'BG': 'BG_18.png', 'Cloth': 'Cloth_03.png', 'tokenId': 95}, {'Hand': 'Hand_06.png', 'Eye': 'Eye_04.png', 'Body': 'Body_4.png', 'Mouth': 'Mouth_07.png', 'Cheek': 'Cheek_04.png', 'Head': 'Head_15.png', 'BG': 'BG_07.png', 'Cloth': 'Cloth_10.png', 'tokenId': 96}, {'Hand': 'Hand_03.png', 'Eye': 'Eye_08.png', 'Body': 'Body_3.png', 'Mouth': 'Mouth_17.png', 'Cheek': 'Cheek_01.png', 'Head': 'Head_11.png', 'BG': 'BG_16.png', 'Cloth': 'Cloth_15.png', 'tokenId': 97}, {'Hand': 'Hand_20.png', 'Eye': 'Eye_06.png', 'Body': 'Body_11.png', 'Mouth': 'Mouth_16.png', 'Cheek': 'Cheek_03.png', 'Head': 'Head_09.png', 'BG': 'BG_06.png', 'Cloth': 'Cloth_06.png', 'tokenId': 98}, {'Hand': 'Hand_03.png', 'Eye': 'Eye_08.png', 'Body': 'Body_1.png', 'Mouth': 'Mouth_10.png', 'Cheek': 'Cheek_05.png', 'Head': 'Head_14.png', 'BG': 'BG_16.png', 'Cloth': 'Cloth_22.png', 'tokenId': 99}]\n"
     ]
    }
   ],
   "source": [
    "print(all_images)"
   ]
  },
  {
   "cell_type": "code",
   "execution_count": 8,
   "metadata": {},
   "outputs": [],
   "source": [
    "### Clear metadata and images folder\n",
    "image_files = glob.glob('./images/*.png')\n",
    "metadata_files = glob.glob('./metadata/*.json')\n",
    "files = image_files + metadata_files\n",
    "for f in files:\n",
    "    try:\n",
    "        os.unlink(f)\n",
    "    except OSError as e:\n",
    "        print(\"Error: %s : %s\" % (f, e.strerror))"
   ]
  },
  {
   "cell_type": "code",
   "execution_count": 9,
   "metadata": {},
   "outputs": [],
   "source": [
    "#### Generate Metadata for all Traits \n",
    "METADATA_FILE_NAME = './metadata/all-traits.json'; \n",
    "with open(METADATA_FILE_NAME, 'w') as outfile:\n",
    "    json.dump(all_images, outfile, indent=4)"
   ]
  },
  {
   "cell_type": "code",
   "execution_count": 10,
   "metadata": {
    "scrolled": true
   },
   "outputs": [],
   "source": [
    "#### Generate Images \n",
    "for items in all_images:\n",
    "    images = [Image.open(f'./trait-layers/{layer}/{items[layer]}').convert('RGBA') for layer in layer_config[\"layer_order\"] if layer != 'tokenId']\n",
    "    \n",
    "    # Create each composite\n",
    "    comp = reduce(lambda pre, cur: Image.alpha_composite(pre, cur), images)\n",
    "    \n",
    "    #Convert to RGB\n",
    "    rgb_im = comp.convert('RGB')\n",
    "    file_name = str(items[\"tokenId\"]) + \".png\"\n",
    "    rgb_im.save(\"./images/\" + file_name)"
   ]
  },
  {
   "cell_type": "code",
   "execution_count": 11,
   "metadata": {},
   "outputs": [],
   "source": [
    "#### Generate Metadata for each Image    \n",
    "\n",
    "f = open('./metadata/all-traits.json',) \n",
    "data = json.load(f)\n",
    "\n",
    "IMAGES_BASE_URI = \"ADD_IMAGES_BASE_URI_HERE\"\n",
    "PROJECT_NAME = \"ADD_PROJECT_NAME_HERE\"\n",
    "\n",
    "def getAttribute(key, value):\n",
    "    return {\n",
    "        \"trait_type\": key,\n",
    "        \"value\": value\n",
    "    }\n",
    "for items in data:\n",
    "    token_id = items['tokenId']\n",
    "    token = {\n",
    "        \"image\": IMAGES_BASE_URI + str(token_id) + '.png',\n",
    "        \"tokenId\": token_id,\n",
    "        \"name\": PROJECT_NAME + ' ' + str(token_id),\n",
    "        \"attributes\": [items[layer] for layer in items if layer != 'tokenId']\n",
    "    }\n",
    "\n",
    "    with open(f'./metadata/{str(token_id)}.json', 'w') as outfile:\n",
    "        json.dump(token, outfile, indent=4)\n",
    "        \n",
    "f.close()"
   ]
  },
  {
   "cell_type": "code",
   "execution_count": null,
   "metadata": {},
   "outputs": [],
   "source": []
  }
 ],
 "metadata": {
  "interpreter": {
   "hash": "3d65f8beab89bca824669a8319117cabe601d9aca9a71aad8efeb42336828120"
  },
  "kernelspec": {
   "display_name": "Python 3 (ipykernel)",
   "language": "python",
   "name": "python3"
  },
  "language_info": {
   "codemirror_mode": {
    "name": "ipython",
    "version": 3
   },
   "file_extension": ".py",
   "mimetype": "text/x-python",
   "name": "python",
   "nbconvert_exporter": "python",
   "pygments_lexer": "ipython3",
   "version": "3.10.2"
  }
 },
 "nbformat": 4,
 "nbformat_minor": 4
}
