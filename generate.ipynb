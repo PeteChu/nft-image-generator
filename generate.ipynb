{
 "cells": [
  {
   "cell_type": "code",
   "execution_count": 1,
   "metadata": {},
   "outputs": [],
   "source": [
    "from PIL import Image \n",
    "from IPython.display import display \n",
    "import random\n",
    "import json\n",
    "from functools import reduce\n",
    "import os\n",
    "import glob\n",
    "import threading\n",
    "import math"
   ]
  },
  {
   "cell_type": "code",
   "execution_count": 2,
   "metadata": {},
   "outputs": [],
   "source": [
    "# Load config file\n",
    "layer_config = {}\n",
    "try:\n",
    "    with open('layer_config.json', 'r') as json_file:\n",
    "        layer_config = json.load(json_file)\n",
    "except FileNotFoundError:\n",
    "    raise Exception('layer_config.json is not found.')"
   ]
  },
  {
   "cell_type": "code",
   "execution_count": 18,
   "metadata": {},
   "outputs": [
    {
     "name": "stdout",
     "output_type": "stream",
     "text": [
      "{'layers': {'Hand': {'traits': ['Hand_13.png', 'Hand_07.png', 'Hand_06.png', 'Hand_12.png', 'Hand_04.png', 'Hand_10.png', 'Hand_11.png', 'Hand_05.png', 'Hand_01.png', 'Hand_15.png', 'Hand_14.png', 'Hand_16.png', 'Hand_02.png', 'Hand_03.png', 'Hand_17.png', 'Hand_19.png', 'Hand_18.png', 'Hand_20.png', 'Hand_08.png', 'Hand_09.png', 'Hand_21.png'], 'weights': [4.761904761904762, 4.761904761904762, 4.761904761904762, 4.761904761904762, 4.761904761904762, 4.761904761904762, 4.761904761904762, 4.761904761904762, 4.761904761904762, 4.761904761904762, 4.761904761904762, 4.761904761904762, 4.761904761904762, 4.761904761904762, 4.761904761904762, 4.761904761904762, 4.761904761904762, 4.761904761904762, 4.761904761904762, 4.761904761904762, 4.761904761904788]}, 'Eye': {'traits': ['Eye_01.png', 'Eye_02.png', 'Eye_03.png', 'Eye_07.png', 'Eye_06.png', 'Eye_04.png', 'Eye_05.png', 'Eye_08.png', 'Eye_09.png'], 'weights': [11.11111111111111, 11.11111111111111, 11.11111111111111, 11.11111111111111, 11.11111111111111, 11.11111111111111, 11.11111111111111, 11.11111111111111, 11.1111111111111]}, 'Body': {'traits': ['Body_1.png', 'Body_3.png'], 'weights': [9.090909090909092, 9.090909090909092]}, 'Mouth': {'traits': ['Mouth_15.png', 'Mouth_01.png', 'Mouth_14.png', 'Mouth_02.png', 'Mouth_16.png', 'Mouth_17.png', 'Mouth_03.png', 'Mouth_07.png', 'Mouth_13.png', 'Mouth_12.png', 'Mouth_06.png', 'Mouth_10.png', 'Mouth_04.png', 'Mouth_05.png', 'Mouth_11.png', 'Mouth_08.png', 'Mouth_09.png', 'Mouth_19.png', 'Mouth_18.png'], 'weights': [5.2631578947368425, 5.2631578947368425, 5.2631578947368425, 5.2631578947368425, 5.2631578947368425, 5.2631578947368425, 5.2631578947368425, 5.2631578947368425, 5.2631578947368425, 5.2631578947368425, 5.2631578947368425, 5.2631578947368425, 5.2631578947368425, 5.2631578947368425, 5.2631578947368425, 5.2631578947368425, 5.2631578947368425, 5.2631578947368425, 5.263157894736793]}, 'Cheek': {'traits': ['Cheek_01.png', 'Cheek_03.png', 'Cheek_02.png', 'Cheek_05.png', 'Cheek_04.png'], 'weights': [20.0, 20.0, 20.0, 20.0, 20.0]}, 'Head': {'traits': ['Head_14.png', 'Head_01.png', 'Head_15.png', 'Head_03.png', 'Head_02.png', 'Head_06.png', 'Head_12.png', 'Head_13.png', 'Head_07.png', 'Head_11.png', 'Head_05.png', 'Head_04.png', 'Head_09.png', 'Head_08.png'], 'weights': [7.142857142857143, 7.142857142857143, 7.142857142857143, 7.142857142857143, 7.142857142857143, 7.142857142857143, 7.142857142857143, 7.142857142857143, 7.142857142857143, 7.142857142857143, 7.142857142857143, 7.142857142857143, 7.142857142857143, 7.142857142857153]}, 'BG': {'traits': ['BG_18.png', 'BG_08.png'], 'weights': [5.555555555555555, 5.555555555555555]}, 'Cloth': {'traits': ['Cloth_22.png', 'Cloth_23.png', 'Cloth_21.png', 'Cloth_09.png', 'Cloth_08.png', 'Cloth_20.png', 'Cloth_18.png', 'Cloth_24.png', 'Cloth_19.png', 'Cloth_17.png', 'Cloth_03.png', 'Cloth_02.png', 'Cloth_16.png', 'Cloth_14.png', 'Cloth_15.png', 'Cloth_01.png', 'Cloth_05.png', 'Cloth_11.png', 'Cloth_10.png', 'Cloth_04.png', 'Cloth_12.png', 'Cloth_06.png', 'Cloth_07.png', 'Cloth_13.png'], 'weights': [4.166666666666667, 4.166666666666667, 4.166666666666667, 4.166666666666667, 4.166666666666667, 4.166666666666667, 4.166666666666667, 4.166666666666667, 4.166666666666667, 4.166666666666667, 4.166666666666667, 4.166666666666667, 4.166666666666667, 4.166666666666667, 4.166666666666667, 4.166666666666667, 4.166666666666667, 4.166666666666667, 4.166666666666667, 4.166666666666667, 4.166666666666667, 4.166666666666667, 4.166666666666667, 4.166666666666643]}}, 'layer_order': ['BG', 'Body', 'Cloth', 'Eye', 'Head', 'Mouth', 'Cheek', 'Hand'], 'incompatibilities': [{'layer': 'BG', 'value': 'BG_08.png', 'incompatible_with': ['Body_1.png']}]}\n"
     ]
    }
   ],
   "source": [
    "print(layer_config)"
   ]
  },
  {
   "cell_type": "code",
   "execution_count": 3,
   "metadata": {},
   "outputs": [],
   "source": [
    "## Generate Traits\n",
    "TOTAL_IMAGES = 10 # Number of random unique images we want to generate\n",
    "\n",
    "all_images = []\n",
    "\n",
    "layers = []\n",
    "\n",
    "# A recursive function to generate unique image combinations\n",
    "def create_new_image():\n",
    "    \n",
    "    new_image = {} #\n",
    "\n",
    "    # For each trait category, select a random trait based on the weightings\n",
    "    for layer in layer_config[\"layers\"]:\n",
    "        new_image[layer] = random.choices(layer_config[\"layers\"][layer][\"traits\"], layer_config[\"layers\"][layer][\"weights\"])[0]\n",
    "    \n",
    "    # Create new image if has incampatable trait\n",
    "    for incompat in layer_config[\"incompatibilities\"]:\n",
    "        for attr in new_image:\n",
    "            if new_image[incompat[\"layer\"]] == incompat[\"value\"] and new_image[attr] in incompat[\"incompatible_with\"]:\n",
    "                return create_new_image()\n",
    "        \n",
    "    if new_image in all_images:\n",
    "        return create_new_image()\n",
    "    else:\n",
    "        return new_image\n",
    "    \n",
    "    \n",
    "# Generate the unique combinations based on trait weightings\n",
    "for i in range(TOTAL_IMAGES): \n",
    "    \n",
    "    new_trait_image = create_new_image()\n",
    "    \n",
    "    all_images.append(new_trait_image)\n",
    "    \n"
   ]
  },
  {
   "cell_type": "code",
   "execution_count": 4,
   "metadata": {},
   "outputs": [
    {
     "name": "stdout",
     "output_type": "stream",
     "text": [
      "Are all images unique? True\n"
     ]
    }
   ],
   "source": [
    "# Returns true if all images are unique\n",
    "def all_images_unique(all_images):\n",
    "    seen = list()\n",
    "    return not any(i in seen or seen.append(i) for i in all_images)\n",
    "\n",
    "print(\"Are all images unique?\", all_images_unique(all_images))"
   ]
  },
  {
   "cell_type": "code",
   "execution_count": 5,
   "metadata": {},
   "outputs": [],
   "source": [
    "# Add token Id to each image\n",
    "i = 0\n",
    "for item in all_images:\n",
    "    item[\"tokenId\"] = i\n",
    "    i = i + 1"
   ]
  },
  {
   "cell_type": "code",
   "execution_count": 6,
   "metadata": {
    "scrolled": true,
    "tags": []
   },
   "outputs": [
    {
     "name": "stdout",
     "output_type": "stream",
     "text": [
      "[{'Hand': 'Hand_11.png', 'Eye': 'Eye_07.png', 'Body': 'Body_4.png', 'Mouth': 'Mouth_11.png', 'Cheek': 'Cheek_03.png', 'Head': 'Head_01.png', 'BG': 'BG_02.png', 'Cloth': 'Cloth_19.png', 'tokenId': 0}, {'Hand': 'Hand_21.png', 'Eye': 'Eye_07.png', 'Body': 'Body_5.png', 'Mouth': 'Mouth_04.png', 'Cheek': 'Cheek_01.png', 'Head': 'Head_03.png', 'BG': 'BG_18.png', 'Cloth': 'Cloth_14.png', 'tokenId': 1}, {'Hand': 'Hand_14.png', 'Eye': 'Eye_01.png', 'Body': 'Body_5.png', 'Mouth': 'Mouth_10.png', 'Cheek': 'Cheek_05.png', 'Head': 'Head_01.png', 'BG': 'BG_07.png', 'Cloth': 'Cloth_17.png', 'tokenId': 2}, {'Hand': 'Hand_06.png', 'Eye': 'Eye_04.png', 'Body': 'Body_10.png', 'Mouth': 'Mouth_16.png', 'Cheek': 'Cheek_04.png', 'Head': 'Head_08.png', 'BG': 'BG_08.png', 'Cloth': 'Cloth_16.png', 'tokenId': 3}, {'Hand': 'Hand_19.png', 'Eye': 'Eye_04.png', 'Body': 'Body_6.png', 'Mouth': 'Mouth_11.png', 'Cheek': 'Cheek_03.png', 'Head': 'Head_15.png', 'BG': 'BG_12.png', 'Cloth': 'Cloth_03.png', 'tokenId': 4}, {'Hand': 'Hand_16.png', 'Eye': 'Eye_08.png', 'Body': 'Body_4.png', 'Mouth': 'Mouth_08.png', 'Cheek': 'Cheek_05.png', 'Head': 'Head_09.png', 'BG': 'BG_09.png', 'Cloth': 'Cloth_24.png', 'tokenId': 5}, {'Hand': 'Hand_07.png', 'Eye': 'Eye_08.png', 'Body': 'Body_9.png', 'Mouth': 'Mouth_10.png', 'Cheek': 'Cheek_04.png', 'Head': 'Head_14.png', 'BG': 'BG_02.png', 'Cloth': 'Cloth_05.png', 'tokenId': 6}, {'Hand': 'Hand_20.png', 'Eye': 'Eye_07.png', 'Body': 'Body_1.png', 'Mouth': 'Mouth_02.png', 'Cheek': 'Cheek_04.png', 'Head': 'Head_11.png', 'BG': 'BG_07.png', 'Cloth': 'Cloth_03.png', 'tokenId': 7}, {'Hand': 'Hand_01.png', 'Eye': 'Eye_08.png', 'Body': 'Body_6.png', 'Mouth': 'Mouth_16.png', 'Cheek': 'Cheek_02.png', 'Head': 'Head_02.png', 'BG': 'BG_18.png', 'Cloth': 'Cloth_13.png', 'tokenId': 8}, {'Hand': 'Hand_04.png', 'Eye': 'Eye_03.png', 'Body': 'Body_1.png', 'Mouth': 'Mouth_05.png', 'Cheek': 'Cheek_02.png', 'Head': 'Head_04.png', 'BG': 'BG_10.png', 'Cloth': 'Cloth_21.png', 'tokenId': 9}]\n"
     ]
    }
   ],
   "source": [
    "print(all_images)"
   ]
  },
  {
   "cell_type": "code",
   "execution_count": 8,
   "metadata": {},
   "outputs": [],
   "source": [
    "### Clear metadata and images folder\n",
    "image_files = glob.glob('./images/*.png')\n",
    "metadata_files = glob.glob('./metadata/*.json')\n",
    "files = image_files + metadata_files\n",
    "for f in files:\n",
    "    try:\n",
    "        os.unlink(f)\n",
    "    except OSError as e:\n",
    "        print(\"Error: %s : %s\" % (f, e.strerror))"
   ]
  },
  {
   "cell_type": "code",
   "execution_count": 7,
   "metadata": {},
   "outputs": [],
   "source": [
    "#### Generate Metadata for all Traits \n",
    "METADATA_FILE_NAME = './metadata/all-traits.json'; \n",
    "with open(METADATA_FILE_NAME, 'w') as outfile:\n",
    "    json.dump(all_images, outfile, indent=4)"
   ]
  },
  {
   "cell_type": "code",
   "execution_count": 11,
   "metadata": {
    "scrolled": true
   },
   "outputs": [],
   "source": [
    "#### Generate Images \n",
    "# for items in all_images:\n",
    "#     images = [Image.open(f'./trait-layers/{layer}/{items[layer]}').convert('RGBA') for layer in layer_config[\"layer_order\"] if layer != 'tokenId']\n",
    "    \n",
    "#     # Create each composite\n",
    "#     comp = reduce(lambda pre, cur: Image.alpha_composite(pre, cur), images)\n",
    "    \n",
    "#     #Convert to RGB\n",
    "#     rgb_im = comp.convert('RGB')\n",
    "#     file_name = str(items[\"tokenId\"]) + \".png\"\n",
    "#     rgb_im.save(\"./images/\" + file_name)\n",
    "\n",
    "def gen_imgs(imgs):\n",
    "    for items in imgs:        \n",
    "        images = [Image.open(f'./trait-layers/{layer}/{items[layer]}').convert('RGBA') for layer in layer_config[\"layer_order\"] if layer != 'tokenId']\n",
    "\n",
    "        # Create each composite\n",
    "        comp = reduce(lambda pre, cur: Image.alpha_composite(pre, cur), images)\n",
    "\n",
    "        #Convert to RGB\n",
    "        rgb_im = comp.convert('RGB')\n",
    "        file_name = str(items[\"tokenId\"]) + \".png\"\n",
    "        rgb_im.save(\"./images/\" + file_name)\n",
    "\n",
    "        \n",
    "def collection_imgs(origin_imgs, size):\n",
    "    result_imgs = []\n",
    "    mov_slice = math.floor(len(origin_imgs) / size)\n",
    "    print(f\"mov_slice {mov_slice}\")\n",
    "    for i in range(size):\n",
    "        if i != size -1:\n",
    "            result_imgs.append(origin_imgs[i*mov_slice :(i+1)*mov_slice])\n",
    "        else:\n",
    "            result_imgs.append(origin_imgs[i*mov_slice:])\n",
    "\n",
    "    return result_imgs\n",
    "\n",
    "# collection_imgs(all_images, 3)\n",
    "\n",
    "def gen_imgs_thread(collections):\n",
    "    threads = list()\n",
    "    for item in collections:\n",
    "        x = threading.Thread(target=gen_imgs, args=(item,))\n",
    "        threads.append(x)\n",
    "        x.start()\n",
    "        \n",
    "    for idex, thread in enumerate(threads):\n",
    "        thread.join()\n",
    "\n",
    "\n",
    "gen_imgs_thread(collection_imgs(all_images,4))"
   ]
  },
  {
   "cell_type": "code",
   "execution_count": 11,
   "metadata": {},
   "outputs": [],
   "source": [
    "#### Generate Metadata for each Image    \n",
    "\n",
    "f = open('./metadata/all-traits.json',) \n",
    "data = json.load(f)\n",
    "\n",
    "IMAGES_BASE_URI = \"ADD_IMAGES_BASE_URI_HERE\"\n",
    "PROJECT_NAME = \"ADD_PROJECT_NAME_HERE\"\n",
    "\n",
    "def getAttribute(key, value):\n",
    "    return {\n",
    "        \"trait_type\": key,\n",
    "        \"value\": value\n",
    "    }\n",
    "for items in data:\n",
    "    token_id = items['tokenId']\n",
    "    token = {\n",
    "        \"image\": IMAGES_BASE_URI + str(token_id) + '.png',\n",
    "        \"tokenId\": token_id,\n",
    "        \"name\": PROJECT_NAME + ' ' + str(token_id),\n",
    "        \"attributes\": [items[layer] for layer in items if layer != 'tokenId']\n",
    "    }\n",
    "\n",
    "    with open(f'./metadata/{str(token_id)}.json', 'w') as outfile:\n",
    "        json.dump(token, outfile, indent=4)\n",
    "        \n",
    "f.close()"
   ]
  }
 ],
 "metadata": {
  "interpreter": {
   "hash": "4a2c8967ce5b61dff5b18a2eaee28cd2c120c31ccb50218152457eaaba259e06"
  },
  "kernelspec": {
   "display_name": "Python 3.8.13 ('venv': venv)",
   "language": "python",
   "name": "python3"
  },
  "language_info": {
   "codemirror_mode": {
    "name": "ipython",
    "version": 3
   },
   "file_extension": ".py",
   "mimetype": "text/x-python",
   "name": "python",
   "nbconvert_exporter": "python",
   "pygments_lexer": "ipython3",
   "version": "3.8.13"
  }
 },
 "nbformat": 4,
 "nbformat_minor": 4
}
