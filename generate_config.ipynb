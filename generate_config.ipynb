{
 "cells": [
  {
   "cell_type": "code",
   "execution_count": 1,
   "id": "ca037df9",
   "metadata": {},
   "outputs": [],
   "source": [
    "import os\n",
    "import json\n",
    "from math import floor, ceil"
   ]
  },
  {
   "cell_type": "code",
   "execution_count": 2,
   "id": "e0273c5b",
   "metadata": {},
   "outputs": [],
   "source": [
    "# Generate config file\n",
    "\n",
    "\n",
    "layer_config = {\n",
    "    \"layers\": {},\n",
    "    \"layer_order\": [],\n",
    "    \"incompatibilities\": [{\n",
    "        \"layer\": \"\",\n",
    "        \"value\": \"\",\n",
    "        \"incompatible_with\": []\n",
    "    }]\n",
    "}\n",
    "\n",
    "\n",
    "\n",
    "# Allowed extension for trait\n",
    "allow_extension = ['png', 'jpg', 'jpeg']\n",
    "\n",
    "# Layer path\n",
    "trait_path = os.path.join(os.getcwd(), 'trait-layers')\n",
    "layer_dirs = os.listdir(trait_path)\n",
    "\n",
    "# Calculate weight\n",
    "def distribute_weight(size=8):\n",
    "    \n",
    "    # Return empty list\n",
    "    if size == 0:\n",
    "        return []\n",
    "    \n",
    "    # Distribute weights\n",
    "    weight = 100/size\n",
    "    weights = [weight for i in range(size-1)]\n",
    "    \n",
    "    return weights + [abs(sum(weights) - 100)]\n",
    "\n",
    "# Generate layers to dictionary\n",
    "for layer in layer_dirs:    \n",
    "    \n",
    "    # Ignore hidden file\n",
    "    if layer.startswith('.'):\n",
    "        continue\n",
    "        \n",
    "    # List every file in folder\n",
    "    items = os.listdir(f'{trait_path}/{layer}')\n",
    "    \n",
    "    # Allow only valid extension\n",
    "    valid_traits = [i for i in items for ex in allow_extension if i.count(ex)]\n",
    "    \n",
    "    trait_config = {}\n",
    "    trait_config[\"traits\"] = valid_traits\n",
    "    trait_config[\"weights\"] = distribute_weight(len(valid_traits))\n",
    "    \n",
    "    layer_config[\"layer_order\"].append(layer)\n",
    "    layer_config[\"layers\"][layer] = trait_config\n",
    "    \n",
    "    \n",
    "# Write layer config to JSON\n",
    "with open(os.path.join(os.getcwd(), 'layer_config.json'), 'w') as fout:\n",
    "    json.dump(layer_config, fout, indent=4)"
   ]
  },
  {
   "cell_type": "code",
   "execution_count": null,
   "id": "ba817b4b",
   "metadata": {},
   "outputs": [],
   "source": []
  }
 ],
 "metadata": {
  "interpreter": {
   "hash": "4a2c8967ce5b61dff5b18a2eaee28cd2c120c31ccb50218152457eaaba259e06"
  },
  "kernelspec": {
   "display_name": "Python 3.8.13 ('venv': venv)",
   "language": "python",
   "name": "python3"
  },
  "language_info": {
   "codemirror_mode": {
    "name": "ipython",
    "version": 3
   },
   "file_extension": ".py",
   "mimetype": "text/x-python",
   "name": "python",
   "nbconvert_exporter": "python",
   "pygments_lexer": "ipython3",
   "version": "3.8.13"
  }
 },
 "nbformat": 4,
 "nbformat_minor": 5
}
